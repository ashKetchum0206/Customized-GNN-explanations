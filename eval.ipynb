{
 "cells": [
  {
   "cell_type": "code",
   "execution_count": 6,
   "metadata": {},
   "outputs": [
    {
     "data": {
      "text/plain": [
       "<All keys matched successfully>"
      ]
     },
     "execution_count": 6,
     "metadata": {},
     "output_type": "execute_result"
    }
   ],
   "source": [
    "import math\n",
    "import random\n",
    "import config\n",
    "from torch_geometric.data import Data\n",
    "from reward import explanation_reward, similarity, compute_fidelity\n",
    "from constraint import constraint\n",
    "from model import GCN_2l, GIN\n",
    "import torch\n",
    "import networkx as nx\n",
    "import matplotlib.pyplot as plt\n",
    "from MCTS_algo import MCTS\n",
    "from utils import to_networkx_graph, mutag_dataset, ba2motif_dataset\n",
    "from subgraph_matching import subgraph_score\n",
    "from networkx.algorithms.isomorphism import GraphMatcher\n",
    "from tqdm import tqdm\n",
    "import torch.nn.functional as F\n",
    "\n",
    "dataset = mutag_dataset\n",
    "metric_weights = {'sparse': 1, 'interpret': 1, 'fidelity': 1}\n",
    "config.metric_weights = metric_weights\n",
    "fidelity_weights = {'plus': 0.3, 'minus': 0.7}\n",
    "config.fidelity_weights = fidelity_weights\n",
    "main_model = GIN(input_dim = dataset[0].x.shape[1], output_dim = 2, multi=True)\n",
    "main_model.load_state_dict(torch.load('models/GIN_model_MUTAG.pth', map_location=torch.device('cpu'), weights_only=True))"
   ]
  },
  {
   "cell_type": "code",
   "execution_count": 12,
   "metadata": {},
   "outputs": [
    {
     "name": "stderr",
     "output_type": "stream",
     "text": [
      "  0%|          | 0/40 [00:00<?, ?it/s]"
     ]
    },
    {
     "name": "stdout",
     "output_type": "stream",
     "text": [
      "Graph has 17 nodes and 19 edges\n"
     ]
    },
    {
     "name": "stderr",
     "output_type": "stream",
     "text": [
      "100%|██████████| 12/12 [00:00<00:00, 41.53it/s]\n",
      "  2%|▎         | 1/40 [02:20<1:31:02, 140.06s/it]"
     ]
    },
    {
     "name": "stdout",
     "output_type": "stream",
     "text": [
      "Graph has 13 nodes and 14 edges\n"
     ]
    },
    {
     "name": "stderr",
     "output_type": "stream",
     "text": [
      "100%|██████████| 12/12 [00:00<00:00, 50.79it/s]\n",
      "  5%|▌         | 2/40 [03:50<1:10:22, 111.12s/it]"
     ]
    },
    {
     "name": "stdout",
     "output_type": "stream",
     "text": [
      "Graph has 13 nodes and 14 edges\n"
     ]
    },
    {
     "name": "stderr",
     "output_type": "stream",
     "text": [
      "100%|██████████| 12/12 [00:00<00:00, 49.88it/s]\n",
      "  8%|▊         | 3/40 [05:08<59:01, 95.71s/it]   "
     ]
    },
    {
     "name": "stdout",
     "output_type": "stream",
     "text": [
      "Graph has 19 nodes and 22 edges\n"
     ]
    },
    {
     "name": "stderr",
     "output_type": "stream",
     "text": [
      "100%|██████████| 12/12 [00:00<00:00, 33.60it/s]\n",
      " 10%|█         | 4/40 [07:28<1:08:02, 113.40s/it]"
     ]
    },
    {
     "name": "stdout",
     "output_type": "stream",
     "text": [
      "Graph has 11 nodes and 11 edges\n"
     ]
    },
    {
     "name": "stderr",
     "output_type": "stream",
     "text": [
      " 92%|█████████▏| 11/12 [00:00<00:00, 55.12it/s]\n",
      " 12%|█▎        | 5/40 [08:03<49:35, 85.02s/it]   "
     ]
    },
    {
     "name": "stdout",
     "output_type": "stream",
     "text": [
      "Graph has 28 nodes and 31 edges\n"
     ]
    },
    {
     "name": "stderr",
     "output_type": "stream",
     "text": [
      "100%|██████████| 12/12 [00:00<00:00, 24.29it/s]\n",
      " 15%|█▌        | 6/40 [10:53<1:04:35, 113.99s/it]"
     ]
    },
    {
     "name": "stdout",
     "output_type": "stream",
     "text": [
      "Graph has 16 nodes and 17 edges\n"
     ]
    },
    {
     "name": "stderr",
     "output_type": "stream",
     "text": [
      "100%|██████████| 12/12 [00:00<00:00, 31.67it/s]\n",
      " 18%|█▊        | 7/40 [12:26<58:49, 106.97s/it]  "
     ]
    },
    {
     "name": "stdout",
     "output_type": "stream",
     "text": [
      "Graph has 20 nodes and 22 edges\n"
     ]
    },
    {
     "name": "stderr",
     "output_type": "stream",
     "text": [
      "100%|██████████| 12/12 [00:00<00:00, 29.32it/s]\n",
      " 20%|██        | 8/40 [14:37<1:01:12, 114.78s/it]"
     ]
    },
    {
     "name": "stdout",
     "output_type": "stream",
     "text": [
      "Graph has 12 nodes and 13 edges\n"
     ]
    },
    {
     "name": "stderr",
     "output_type": "stream",
     "text": [
      "100%|██████████| 12/12 [00:00<00:00, 43.46it/s]\n",
      " 22%|██▎       | 9/40 [15:24<48:19, 93.54s/it]   "
     ]
    },
    {
     "name": "stdout",
     "output_type": "stream",
     "text": [
      "Graph has 17 nodes and 19 edges\n"
     ]
    },
    {
     "name": "stderr",
     "output_type": "stream",
     "text": [
      "100%|██████████| 12/12 [00:00<00:00, 27.88it/s]\n",
      " 25%|██▌       | 10/40 [17:37<52:49, 105.64s/it]"
     ]
    },
    {
     "name": "stdout",
     "output_type": "stream",
     "text": [
      "Graph has 17 nodes and 19 edges\n"
     ]
    },
    {
     "name": "stderr",
     "output_type": "stream",
     "text": [
      "100%|██████████| 12/12 [00:00<00:00, 26.82it/s]\n",
      " 28%|██▊       | 11/40 [19:42<53:58, 111.69s/it]"
     ]
    },
    {
     "name": "stdout",
     "output_type": "stream",
     "text": [
      "Graph has 20 nodes and 23 edges\n"
     ]
    },
    {
     "name": "stderr",
     "output_type": "stream",
     "text": [
      "100%|██████████| 12/12 [00:00<00:00, 21.69it/s]\n",
      " 30%|███       | 12/40 [21:51<54:35, 116.98s/it]"
     ]
    },
    {
     "name": "stdout",
     "output_type": "stream",
     "text": [
      "Graph has 22 nodes and 25 edges\n"
     ]
    },
    {
     "name": "stderr",
     "output_type": "stream",
     "text": [
      "100%|██████████| 12/12 [00:00<00:00, 21.53it/s]\n",
      " 32%|███▎      | 13/40 [25:14<1:04:22, 143.05s/it]"
     ]
    },
    {
     "name": "stdout",
     "output_type": "stream",
     "text": [
      "Graph has 13 nodes and 14 edges\n"
     ]
    },
    {
     "name": "stderr",
     "output_type": "stream",
     "text": [
      "100%|██████████| 12/12 [00:00<00:00, 28.29it/s]\n",
      " 35%|███▌      | 14/40 [26:22<52:07, 120.28s/it]  "
     ]
    },
    {
     "name": "stdout",
     "output_type": "stream",
     "text": [
      "Graph has 19 nodes and 22 edges\n"
     ]
    },
    {
     "name": "stderr",
     "output_type": "stream",
     "text": [
      "100%|██████████| 12/12 [00:00<00:00, 21.41it/s]\n",
      " 38%|███▊      | 15/40 [28:43<52:40, 126.41s/it]"
     ]
    },
    {
     "name": "stdout",
     "output_type": "stream",
     "text": [
      "Graph has 22 nodes and 25 edges\n"
     ]
    },
    {
     "name": "stderr",
     "output_type": "stream",
     "text": [
      "100%|██████████| 12/12 [00:00<00:00, 20.34it/s]\n",
      " 40%|████      | 16/40 [31:38<56:27, 141.16s/it]"
     ]
    },
    {
     "name": "stdout",
     "output_type": "stream",
     "text": [
      "Graph has 11 nodes and 11 edges\n"
     ]
    },
    {
     "name": "stderr",
     "output_type": "stream",
     "text": [
      " 92%|█████████▏| 11/12 [00:00<00:00, 31.25it/s]\n",
      " 42%|████▎     | 17/40 [32:08<41:17, 107.73s/it]"
     ]
    },
    {
     "name": "stdout",
     "output_type": "stream",
     "text": [
      "Graph has 17 nodes and 19 edges\n"
     ]
    },
    {
     "name": "stderr",
     "output_type": "stream",
     "text": [
      "100%|██████████| 12/12 [00:00<00:00, 20.82it/s]\n",
      " 45%|████▌     | 18/40 [33:51<38:58, 106.31s/it]"
     ]
    },
    {
     "name": "stdout",
     "output_type": "stream",
     "text": [
      "Graph has 13 nodes and 14 edges\n"
     ]
    },
    {
     "name": "stderr",
     "output_type": "stream",
     "text": [
      "100%|██████████| 12/12 [00:00<00:00, 25.99it/s]\n",
      " 48%|████▊     | 19/40 [35:07<34:00, 97.17s/it] "
     ]
    },
    {
     "name": "stdout",
     "output_type": "stream",
     "text": [
      "Graph has 18 nodes and 20 edges\n"
     ]
    },
    {
     "name": "stderr",
     "output_type": "stream",
     "text": [
      "100%|██████████| 12/12 [00:00<00:00, 18.89it/s]\n",
      " 50%|█████     | 20/40 [38:10<40:58, 122.91s/it]"
     ]
    },
    {
     "name": "stdout",
     "output_type": "stream",
     "text": [
      "Graph has 18 nodes and 19 edges\n"
     ]
    },
    {
     "name": "stderr",
     "output_type": "stream",
     "text": [
      "100%|██████████| 12/12 [00:00<00:00, 20.21it/s]\n",
      " 52%|█████▎    | 21/40 [39:52<36:56, 116.63s/it]"
     ]
    },
    {
     "name": "stdout",
     "output_type": "stream",
     "text": [
      "Graph has 17 nodes and 19 edges\n"
     ]
    },
    {
     "name": "stderr",
     "output_type": "stream",
     "text": [
      "100%|██████████| 12/12 [00:00<00:00, 19.02it/s]\n",
      " 55%|█████▌    | 22/40 [48:59<1:13:47, 245.97s/it]"
     ]
    },
    {
     "name": "stdout",
     "output_type": "stream",
     "text": [
      "Graph has 23 nodes and 27 edges\n"
     ]
    },
    {
     "name": "stderr",
     "output_type": "stream",
     "text": [
      "100%|██████████| 12/12 [00:00<00:00, 17.82it/s]\n",
      " 57%|█████▊    | 23/40 [51:19<1:00:40, 214.15s/it]"
     ]
    },
    {
     "name": "stdout",
     "output_type": "stream",
     "text": [
      "Graph has 27 nodes and 33 edges\n"
     ]
    },
    {
     "name": "stderr",
     "output_type": "stream",
     "text": [
      "100%|██████████| 12/12 [00:00<00:00, 16.01it/s]\n",
      " 60%|██████    | 24/40 [54:29<55:10, 206.89s/it]  "
     ]
    },
    {
     "name": "stdout",
     "output_type": "stream",
     "text": [
      "Graph has 17 nodes and 19 edges\n"
     ]
    },
    {
     "name": "stderr",
     "output_type": "stream",
     "text": [
      "100%|██████████| 12/12 [00:00<00:00, 16.77it/s]\n",
      " 62%|██████▎   | 25/40 [56:46<46:27, 185.84s/it]"
     ]
    },
    {
     "name": "stdout",
     "output_type": "stream",
     "text": [
      "Graph has 13 nodes and 13 edges\n"
     ]
    },
    {
     "name": "stderr",
     "output_type": "stream",
     "text": [
      "100%|██████████| 12/12 [00:00<00:00, 20.41it/s]\n",
      " 65%|██████▌   | 26/40 [57:41<34:13, 146.67s/it]"
     ]
    },
    {
     "name": "stdout",
     "output_type": "stream",
     "text": [
      "Graph has 23 nodes and 27 edges\n"
     ]
    },
    {
     "name": "stderr",
     "output_type": "stream",
     "text": [
      "100%|██████████| 12/12 [00:00<00:00, 16.75it/s]\n",
      " 68%|██████▊   | 27/40 [1:00:45<34:11, 157.81s/it]"
     ]
    },
    {
     "name": "stdout",
     "output_type": "stream",
     "text": [
      "Graph has 17 nodes and 19 edges\n"
     ]
    },
    {
     "name": "stderr",
     "output_type": "stream",
     "text": [
      "100%|██████████| 12/12 [00:00<00:00, 16.52it/s]\n",
      " 70%|███████   | 28/40 [1:02:49<29:30, 147.57s/it]"
     ]
    },
    {
     "name": "stdout",
     "output_type": "stream",
     "text": [
      "Graph has 23 nodes and 25 edges\n"
     ]
    },
    {
     "name": "stderr",
     "output_type": "stream",
     "text": [
      "100%|██████████| 12/12 [00:00<00:00, 15.01it/s]\n",
      " 72%|███████▎  | 29/40 [1:05:41<28:23, 154.90s/it]"
     ]
    },
    {
     "name": "stdout",
     "output_type": "stream",
     "text": [
      "Graph has 23 nodes and 27 edges\n"
     ]
    },
    {
     "name": "stderr",
     "output_type": "stream",
     "text": [
      "100%|██████████| 12/12 [00:00<00:00, 14.30it/s]\n",
      " 75%|███████▌  | 30/40 [1:08:36<26:49, 160.94s/it]"
     ]
    },
    {
     "name": "stdout",
     "output_type": "stream",
     "text": [
      "Graph has 22 nodes and 25 edges\n"
     ]
    },
    {
     "name": "stderr",
     "output_type": "stream",
     "text": [
      "100%|██████████| 12/12 [00:00<00:00, 13.52it/s]\n",
      " 78%|███████▊  | 31/40 [1:11:21<24:19, 162.22s/it]"
     ]
    },
    {
     "name": "stdout",
     "output_type": "stream",
     "text": [
      "Graph has 24 nodes and 25 edges\n"
     ]
    },
    {
     "name": "stderr",
     "output_type": "stream",
     "text": [
      "100%|██████████| 12/12 [00:00<00:00, 14.23it/s]\n",
      " 80%|████████  | 32/40 [1:13:26<20:08, 151.12s/it]"
     ]
    },
    {
     "name": "stdout",
     "output_type": "stream",
     "text": [
      "Graph has 23 nodes and 25 edges\n"
     ]
    }
   ],
   "source": [
    "net_stability = 0\n",
    "net_interpret = 0 \n",
    "net_fidelity = 0        \n",
    "num_graphs = 40\n",
    "\n",
    "for k in tqdm(range(num_graphs)):\n",
    "\n",
    "    config.graph_index = k  # You can change this to analyze different molecules\n",
    "    graph_index = config.graph_index\n",
    "    # print(f\"Analyzing molecule {graph_index} from MUTAG dataset..\")\n",
    "\n",
    "    # Extract data from the selected graph\n",
    "    x = dataset[graph_index].x\n",
    "    edge_index = dataset[graph_index].edge_index\n",
    "    edge_attr = dataset[graph_index].edge_attr\n",
    "    edge_list = []\n",
    "\n",
    "    for i in range(edge_index.size(1)):\n",
    "        src, dst = edge_index[0, i].item(), edge_index[1, i].item()\n",
    "        edge_list.append((src, dst))\n",
    "\n",
    "    # Set edge_attr in config (needed by reward function)\n",
    "    config.edge_attr = edge_attr\n",
    "\n",
    "\n",
    "    # Initialize and run MCTS\n",
    "    config.max_edges = 12\n",
    "    config.allowed = range(len(edge_list))\n",
    "\n",
    "    mcts = MCTS(main_model, x, edge_list, edge_index, explanation_reward, metric_weights, \n",
    "                constraint, C=10, num_simulations=50, rollout_depth=100)\n",
    "\n",
    "    exec(open(\"interpret_norm.py\").read(), globals())\n",
    "    \n",
    "    present_state = set()\n",
    "    best_subset = set()\n",
    "    best_reward = [0,0,0,0]\n",
    "\n",
    "    for _ in range(config.max_edges):\n",
    "        try:\n",
    "            result = mcts.search(present_state).state\n",
    "            present_state = result\n",
    "            reward = explanation_reward(present_state, metric_weights)\n",
    "            if(reward[-1] >= best_reward[-1]):\n",
    "                best_reward = reward\n",
    "                best_subset = present_state\n",
    "        except:\n",
    "            break\n",
    "\n",
    "    target_edge_list = torch.zeros((2,len(best_subset)), dtype = torch.long)\n",
    "    last_filled = 0 \n",
    "    unique_nodes = set()\n",
    "\n",
    "    for idx,edge in enumerate(edge_list):\n",
    "        if(idx not in best_subset): continue\n",
    "        target_edge_list[0][last_filled] = edge[0]\n",
    "        target_edge_list[1][last_filled] = edge[1]\n",
    "        unique_nodes.add(edge[0])\n",
    "        unique_nodes.add(edge[1])\n",
    "        last_filled+=1\n",
    "\n",
    "    unique_nodes = sorted(list(unique_nodes))\n",
    "    mapping = {}\n",
    "    for idx, node in enumerate(unique_nodes):\n",
    "        mapping[node] = idx\n",
    "\n",
    "    for edge in range(target_edge_list.shape[1]):\n",
    "        target_edge_list[0][edge] = mapping[target_edge_list[0][edge].item()]\n",
    "        target_edge_list[1][edge] = mapping[target_edge_list[1][edge].item()]\n",
    "\n",
    "    target_x = config.node_features[list(unique_nodes)]\n",
    "    target_graph_data = Data(x=target_x, edge_index=target_edge_list, edge_attr=config.edge_attr[list(best_subset)])\n",
    "    # config.alter_graphs.append(target_graph_data)\n",
    "    config.alter_graphs.append((best_subset,best_reward[-1]))\n",
    "\n",
    "\n",
    "    # Sample random graphs and get their explanations with the same user metrics preference\n",
    "    for _ in range(10):\n",
    "\n",
    "        k = 0.8\n",
    "        sampled_indices = random.sample(range(len(edge_list)), int(k*len(edge_list)))\n",
    "        config.allowed = sampled_indices\n",
    "\n",
    "        present_state = set()\n",
    "        best_subset = set()\n",
    "        best_reward = [0,0,0,0]\n",
    "\n",
    "        mcts = MCTS(main_model, x, edge_list, edge_index, explanation_reward, metric_weights, \n",
    "                constraint, C=10, num_simulations=50, rollout_depth=100)\n",
    "\n",
    "        for _ in range(config.max_edges):\n",
    "            try:\n",
    "                result = mcts.search(present_state).state\n",
    "                present_state = result\n",
    "                reward = explanation_reward(present_state, metric_weights)\n",
    "                if(reward[-1] >= best_reward[-1]):\n",
    "                    best_reward = reward\n",
    "                    best_subset = present_state\n",
    "            except:\n",
    "                break\n",
    "\n",
    "        config.alter_graphs.append((best_subset,best_reward[-1]))\n",
    "\n",
    "    # Run MCTS with updated reward function\n",
    "    config.allowed = range(len(edge_list))\n",
    "    present_state = set()\n",
    "    best_subset = set()\n",
    "    best_reward = [0,0,0,0]\n",
    "\n",
    "    mcts = MCTS(main_model, x, edge_list, edge_index, similarity_score, metric_weights, \n",
    "                constraint, C=10, num_simulations=50, rollout_depth=100)\n",
    "\n",
    "    for _ in tqdm(range(config.max_edges)):\n",
    "        try:\n",
    "            result = mcts.search(present_state).state\n",
    "            present_state = result\n",
    "            reward = explanation_reward(present_state, metric_weights)\n",
    "            if(reward[-1] >= best_reward[-1]):\n",
    "                best_reward = reward\n",
    "                best_subset = present_state\n",
    "        except:\n",
    "            break\n",
    "\n",
    "    # constraint(best_subset,log=True)\n",
    "    target_edge_list = torch.zeros((2,len(best_subset)), dtype = torch.long)\n",
    "    last_filled = 0 \n",
    "    unique_nodes = set()\n",
    "\n",
    "    for idx,edge in enumerate(edge_list):\n",
    "        if(idx not in best_subset): continue\n",
    "        target_edge_list[0][last_filled] = edge[0]\n",
    "        target_edge_list[1][last_filled] = edge[1]\n",
    "        unique_nodes.add(edge[0])\n",
    "        unique_nodes.add(edge[1])\n",
    "        last_filled+=1\n",
    "\n",
    "    unique_nodes = sorted(list(unique_nodes))\n",
    "    mapping = {}\n",
    "    for idx, node in enumerate(unique_nodes):\n",
    "        mapping[node] = idx\n",
    "\n",
    "    for edge in range(target_edge_list.shape[1]):\n",
    "        target_edge_list[0][edge] = mapping[target_edge_list[0][edge].item()]\n",
    "        target_edge_list[1][edge] = mapping[target_edge_list[1][edge].item()]\n",
    "\n",
    "    target_x = config.node_features[list(unique_nodes)]\n",
    "    target_graph_data = Data(x=target_x, edge_index=target_edge_list, edge_attr=config.edge_attr[list(best_subset)])\n",
    "\n",
    "    net_interpret += subgraph_score(best_subset)\n",
    "    stability = 0\n",
    "    for alter_graph in config.alter_graphs:\n",
    "        stability += similarity(best_subset, alter_graph[0])\n",
    "    net_stability += stability\n",
    "    net_fidelity += compute_fidelity(best_subset, fidelity_weights)"
   ]
  },
  {
   "cell_type": "code",
   "execution_count": 10,
   "metadata": {},
   "outputs": [
    {
     "name": "stdout",
     "output_type": "stream",
     "text": [
      "14.220652876535228\n",
      "0.5320530414103282\n",
      "77.0\n"
     ]
    }
   ],
   "source": [
    "print(net_stability/num_graphs)\n",
    "print(net_fidelity/num_graphs)\n",
    "print(net_interpret/num_graphs)"
   ]
  },
  {
   "cell_type": "code",
   "execution_count": null,
   "metadata": {},
   "outputs": [],
   "source": []
  }
 ],
 "metadata": {
  "kernelspec": {
   "display_name": "driver",
   "language": "python",
   "name": "python3"
  },
  "language_info": {
   "codemirror_mode": {
    "name": "ipython",
    "version": 3
   },
   "file_extension": ".py",
   "mimetype": "text/x-python",
   "name": "python",
   "nbconvert_exporter": "python",
   "pygments_lexer": "ipython3",
   "version": "3.12.2"
  }
 },
 "nbformat": 4,
 "nbformat_minor": 2
}
