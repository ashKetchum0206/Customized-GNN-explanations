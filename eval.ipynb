{
 "cells": [
  {
   "cell_type": "code",
   "execution_count": 5,
   "metadata": {},
   "outputs": [
    {
     "data": {
      "text/plain": [
       "<All keys matched successfully>"
      ]
     },
     "execution_count": 5,
     "metadata": {},
     "output_type": "execute_result"
    }
   ],
   "source": [
    "import math\n",
    "import random\n",
    "import config\n",
    "from torch_geometric.data import Data\n",
    "from reward import explanation_reward, similarity, compute_fidelity, similarity_score\n",
    "from constraint import constraint\n",
    "from model import GCN_2l, GIN\n",
    "import torch\n",
    "import networkx as nx\n",
    "import matplotlib.pyplot as plt\n",
    "from MCTS_algo import MCTS\n",
    "from utils import to_networkx_graph, mutag_dataset, ba2motif_dataset\n",
    "from subgraph_matching import subgraph_score\n",
    "from networkx.algorithms.isomorphism import GraphMatcher\n",
    "from tqdm import tqdm\n",
    "import torch.nn.functional as F\n",
    "\n",
    "dataset = mutag_dataset\n",
    "metric_weights = {'sparse': 1, 'interpret': 1, 'fidelity': 1}\n",
    "config.metric_weights = metric_weights\n",
    "fidelity_weights = {'plus': 0.3, 'minus': 0.7}\n",
    "config.fidelity_weights = fidelity_weights\n",
    "main_model = GIN(input_dim = dataset[0].x.shape[1], output_dim = 2, multi=True)\n",
    "main_model.load_state_dict(torch.load('models/GIN_model_MUTAG.pth', map_location=torch.device('cpu'), weights_only=True))"
   ]
  },
  {
   "cell_type": "code",
   "execution_count": 2,
   "metadata": {},
   "outputs": [
    {
     "data": {
      "text/plain": [
       "{'nitro_group': <networkx.classes.graph.Graph at 0x168e538f0>,\n",
       " 'benzene_ring': <networkx.classes.graph.Graph at 0x16864ec90>,\n",
       " 'napthalene': <networkx.classes.graph.Graph at 0x168eb00b0>,\n",
       " 'anthracene': <networkx.classes.graph.Graph at 0x169251eb0>,\n",
       " 'pyridine': <networkx.classes.graph.Graph at 0x1682cef00>,\n",
       " 'ethyl': <networkx.classes.graph.Graph at 0x1693ed8b0>,\n",
       " 'fluoro': <networkx.classes.graph.Graph at 0x1696dbf50>,\n",
       " 'propyl': <networkx.classes.graph.Graph at 0x168f3e360>,\n",
       " 'ester_group': <networkx.classes.graph.Graph at 0x1692776b0>,\n",
       " 'aromatic_oxy': <networkx.classes.graph.Graph at 0x16895e090>,\n",
       " 'imidazole': <networkx.classes.graph.Graph at 0x168cada60>,\n",
       " 'amino_benzene': <networkx.classes.graph.Graph at 0x16929b230>,\n",
       " 'ketone': <networkx.classes.graph.Graph at 0x1697ad280>,\n",
       " 'cyanide': <networkx.classes.graph.Graph at 0x1697afce0>,\n",
       " 'iodo': <networkx.classes.graph.Graph at 0x1697ae3f0>,\n",
       " 'ethene': <networkx.classes.graph.Graph at 0x1697ad700>,\n",
       " 'chloro': <networkx.classes.graph.Graph at 0x1697acce0>,\n",
       " 'ether': <networkx.classes.graph.Graph at 0x1697ac440>,\n",
       " 'bromo': <networkx.classes.graph.Graph at 0x1697afec0>,\n",
       " 'dinitro': <networkx.classes.graph.Graph at 0x1697afe60>,\n",
       " 'aromatic_amine': <networkx.classes.graph.Graph at 0x1697afe90>,\n",
       " 'cyclic_butyl': <networkx.classes.graph.Graph at 0x1697afd70>}"
      ]
     },
     "execution_count": 2,
     "metadata": {},
     "output_type": "execute_result"
    }
   ],
   "source": [
    "config.query_graphs"
   ]
  },
  {
   "cell_type": "code",
   "execution_count": 8,
   "metadata": {},
   "outputs": [
    {
     "name": "stderr",
     "output_type": "stream",
     "text": [
      "  0%|          | 0/40 [00:00<?, ?it/s]"
     ]
    },
    {
     "name": "stdout",
     "output_type": "stream",
     "text": [
      "Graph has 17 nodes and 19 edges\n"
     ]
    },
    {
     "name": "stderr",
     "output_type": "stream",
     "text": [
      "  2%|▎         | 1/40 [02:21<1:31:39, 141.00s/it]"
     ]
    },
    {
     "name": "stdout",
     "output_type": "stream",
     "text": [
      "Graph has 13 nodes and 14 edges\n"
     ]
    }
   ],
   "source": [
    "net_stability = 0\n",
    "net_interpret = 0 \n",
    "net_fidelity = 0        \n",
    "num_graphs = 40\n",
    "\n",
    "for k in tqdm(range(num_graphs)):\n",
    "\n",
    "    config.graph_index = k  # You can change this to analyze different molecules\n",
    "    graph_index = config.graph_index\n",
    "    config.alter_graphs = []\n",
    "    # print(f\"Analyzing molecule {graph_index} from MUTAG dataset..\")\n",
    "\n",
    "    # Extract data from the selected graph\n",
    "    x = dataset[graph_index].x\n",
    "    edge_index = dataset[graph_index].edge_index\n",
    "    edge_attr = dataset[graph_index].edge_attr\n",
    "    edge_list = []\n",
    "\n",
    "    for i in range(edge_index.size(1)):\n",
    "        src, dst = edge_index[0, i].item(), edge_index[1, i].item()\n",
    "        edge_list.append((src, dst))\n",
    "\n",
    "    # Set edge_attr in config (needed by reward function)\n",
    "    config.edge_attr = edge_attr\n",
    "    \n",
    "    # Initialize and run MCTS\n",
    "    config.max_edges = 12\n",
    "    config.allowed = range(len(edge_list))\n",
    "\n",
    "    mcts = MCTS(main_model, x, edge_list, edge_index, explanation_reward, metric_weights, \n",
    "                constraint, C=10, num_simulations=50, rollout_depth=100)\n",
    "\n",
    "    exec(open(\"interpret_norm.py\").read(), globals())\n",
    "    \n",
    "    present_state = set()\n",
    "    best_subset = set()\n",
    "    best_reward = [0,0,0,0]\n",
    "\n",
    "    for _ in range(config.max_edges):\n",
    "        try:\n",
    "            result = mcts.search(present_state).state\n",
    "            present_state = result\n",
    "            reward = explanation_reward(present_state, metric_weights)\n",
    "            if(reward[-1] >= best_reward[-1]):\n",
    "                best_reward = reward\n",
    "                best_subset = present_state\n",
    "        except:\n",
    "            break\n",
    "\n",
    "    target_edge_list = torch.zeros((2,len(best_subset)), dtype = torch.long)\n",
    "    last_filled = 0 \n",
    "    unique_nodes = set()\n",
    "\n",
    "    for idx,edge in enumerate(edge_list):\n",
    "        if(idx not in best_subset): continue\n",
    "        target_edge_list[0][last_filled] = edge[0]\n",
    "        target_edge_list[1][last_filled] = edge[1]\n",
    "        unique_nodes.add(edge[0])\n",
    "        unique_nodes.add(edge[1])\n",
    "        last_filled+=1\n",
    "\n",
    "    unique_nodes = sorted(list(unique_nodes))\n",
    "    mapping = {}\n",
    "    for idx, node in enumerate(unique_nodes):\n",
    "        mapping[node] = idx\n",
    "\n",
    "    for edge in range(target_edge_list.shape[1]):\n",
    "        target_edge_list[0][edge] = mapping[target_edge_list[0][edge].item()]\n",
    "        target_edge_list[1][edge] = mapping[target_edge_list[1][edge].item()]\n",
    "\n",
    "    target_x = config.node_features[list(unique_nodes)]\n",
    "    target_graph_data = Data(x=target_x, edge_index=target_edge_list)\n",
    "    # config.alter_graphs.append(target_graph_data)\n",
    "    config.alter_graphs.append((best_subset,best_reward[-1]))\n",
    "\n",
    "\n",
    "    # Sample random graphs and get their explanations with the same user metrics preference\n",
    "    for _ in range(10):\n",
    "\n",
    "        k = 0.8\n",
    "        sampled_indices = random.sample(range(len(edge_list)), int(k*len(edge_list)))\n",
    "        config.allowed = sampled_indices\n",
    "\n",
    "        present_state = set()\n",
    "        best_subset = set()\n",
    "        best_reward = [0,0,0,0]\n",
    "\n",
    "        mcts = MCTS(main_model, x, edge_list, edge_index, explanation_reward, metric_weights, \n",
    "                constraint, C=10, num_simulations=50, rollout_depth=100)\n",
    "\n",
    "        for _ in range(config.max_edges):\n",
    "            try:\n",
    "                result = mcts.search(present_state).state\n",
    "                present_state = result\n",
    "                reward = explanation_reward(present_state, metric_weights)\n",
    "                if(reward[-1] >= best_reward[-1]):\n",
    "                    best_reward = reward\n",
    "                    best_subset = present_state\n",
    "            except:\n",
    "                break\n",
    "\n",
    "        config.alter_graphs.append((best_subset,best_reward[-1]))\n",
    "\n",
    "    # Run MCTS with updated reward function\n",
    "    config.allowed = range(len(edge_list))\n",
    "    present_state = set()\n",
    "    best_subset = set()\n",
    "    best_reward = [0,0,0,0]\n",
    "\n",
    "    mcts = MCTS(main_model, x, edge_list, edge_index, similarity_score, metric_weights, \n",
    "                constraint, C=10, num_simulations=50, rollout_depth=100)\n",
    "\n",
    "    for _ in range(config.max_edges):\n",
    "        try:\n",
    "            result = mcts.search(present_state).state\n",
    "            present_state = result\n",
    "            reward = similarity_score(present_state, metric_weights)\n",
    "            if(reward[-1] >= best_reward[-1]):\n",
    "                best_reward = reward\n",
    "                best_subset = present_state\n",
    "        except:\n",
    "            break\n",
    "\n",
    "    # constraint(best_subset,log=True)\n",
    "    target_edge_list = torch.zeros((2,len(best_subset)), dtype = torch.long)\n",
    "    last_filled = 0 \n",
    "    unique_nodes = set()\n",
    "\n",
    "    for idx,edge in enumerate(edge_list):\n",
    "        if(idx not in best_subset): continue\n",
    "        target_edge_list[0][last_filled] = edge[0]\n",
    "        target_edge_list[1][last_filled] = edge[1]\n",
    "        unique_nodes.add(edge[0])\n",
    "        unique_nodes.add(edge[1])\n",
    "        last_filled+=1\n",
    "\n",
    "    unique_nodes = sorted(list(unique_nodes))\n",
    "    mapping = {}\n",
    "    for idx, node in enumerate(unique_nodes):\n",
    "        mapping[node] = idx\n",
    "\n",
    "    for edge in range(target_edge_list.shape[1]):\n",
    "        target_edge_list[0][edge] = mapping[target_edge_list[0][edge].item()]\n",
    "        target_edge_list[1][edge] = mapping[target_edge_list[1][edge].item()]\n",
    "\n",
    "    target_x = config.node_features[list(unique_nodes)]\n",
    "    target_graph_data = Data(x=target_x, edge_index=target_edge_list)\n",
    "\n",
    "    net_interpret += subgraph_score(best_subset)\n",
    "    stability = 0\n",
    "    for alter_graph in config.alter_graphs:\n",
    "        stability += similarity(best_subset, alter_graph[0])\n",
    "    net_stability += stability\n",
    "    net_fidelity += compute_fidelity(best_subset, fidelity_weights)"
   ]
  },
  {
   "cell_type": "code",
   "execution_count": 16,
   "metadata": {},
   "outputs": [
    {
     "name": "stdout",
     "output_type": "stream",
     "text": [
      "5.77143766833143\n",
      "0.5520170528970352\n",
      "89.45\n"
     ]
    }
   ],
   "source": [
    "print(net_stability/num_graphs)\n",
    "print(net_fidelity/num_graphs)\n",
    "print(net_interpret/num_graphs)"
   ]
  },
  {
   "cell_type": "code",
   "execution_count": null,
   "metadata": {},
   "outputs": [],
   "source": []
  }
 ],
 "metadata": {
  "kernelspec": {
   "display_name": "driver",
   "language": "python",
   "name": "python3"
  },
  "language_info": {
   "codemirror_mode": {
    "name": "ipython",
    "version": 3
   },
   "file_extension": ".py",
   "mimetype": "text/x-python",
   "name": "python",
   "nbconvert_exporter": "python",
   "pygments_lexer": "ipython3",
   "version": "3.12.2"
  }
 },
 "nbformat": 4,
 "nbformat_minor": 2
}
